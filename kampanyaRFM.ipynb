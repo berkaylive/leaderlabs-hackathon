{
 "cells": [
  {
   "cell_type": "code",
   "execution_count": 10,
   "metadata": {},
   "outputs": [],
   "source": [
    "import pandas as pd\n",
    "import matplotlib.pyplot as plt\n",
    "\n",
    "veri = pd.read_excel(\"C:\\\\Users\\\\caglars\\\\Desktop\\\\da.xlsx\")"
   ]
  },
  {
   "cell_type": "code",
   "execution_count": 24,
   "metadata": {},
   "outputs": [
    {
     "name": "stdout",
     "output_type": "stream",
     "text": [
      "Örek öz börek işyeri için kampanya koşulları: Sunday günleri 1 - 3 saatleri arasında komisyon indirimi mevcut.\n"
     ]
    }
   ],
   "source": [
    "import pandas as pd\n",
    "import datetime as dt\n",
    "\n",
    "veri['IslemTarih'] = pd.to_datetime(veri['IslemTarih'])\n",
    "bugun = max(veri['IslemTarih'])\n",
    "veri['Recency'] = (bugun - veri['IslemTarih']).dt.days\n",
    "\n",
    "frequency = veri.groupby('UyeIsyeriAdi')['IslemID'].count().reset_index()\n",
    "frequency.columns = ['UyeIsyeriAdi', 'Frequency']\n",
    "\n",
    "monetary = veri.groupby('UyeIsyeriAdi')['IslemTutar'].sum().reset_index()\n",
    "monetary.columns = ['UyeIsyeriAdi', 'Monetary']\n",
    "\n",
    "rfm = pd.merge(frequency, monetary, on='UyeIsyeriAdi')\n",
    "rfm = pd.merge(rfm, veri[['UyeIsyeriAdi', 'Recency']], on='UyeIsyeriAdi')\n",
    "rfm = rfm.drop_duplicates(subset='UyeIsyeriAdi')\n",
    "\n",
    "rfm['R_Score'] = pd.qcut(rfm['Recency'], q=5, labels=[5, 4, 3, 2, 1])\n",
    "rfm['F_Score'] = pd.qcut(rfm['Frequency'], q=5, labels=[1, 2, 3, 4, 5])\n",
    "rfm['M_Score'] = pd.qcut(rfm['Monetary'], q=5, labels=[1, 2, 3, 4, 5])\n",
    "\n",
    "rfm['RFM_Puan'] = rfm['R_Score'].astype(int) + rfm['F_Score'].astype(int) + rfm['M_Score'].astype(int)\n",
    "\n",
    "\n",
    "\n",
    "def sınıflandırma(row):\n",
    "    r_score = row['R_Score']\n",
    "    f_score = row['F_Score']\n",
    "    m_score = row['M_Score']\n",
    "    \n",
    "    if r_score >= 4 and f_score >= 4 and m_score >= 4:\n",
    "        return 'Çok Değerli ve Sık İşlem Yapan (Segment 1)'\n",
    "    elif r_score >= 3 and f_score >= 3 and m_score >= 3:\n",
    "        return 'Değerli ve Orta Sık İşlem Yapan (Segment 2)'\n",
    "    elif r_score >= 2 and f_score >= 2 and m_score >= 2:\n",
    "        return 'Orta Değerli ve Az Sık İşlem Yapan (Segment 3)'\n",
    "    else:\n",
    "        return 'Diğer (Segment 4)'\n",
    "\n",
    "rfm['Segment'] = rfm.apply(sınıflandırma, axis=1)\n",
    "\n",
    "veri['IslemSaat'] = pd.to_datetime(veri['IslemTarih']).dt.hour\n",
    "veri['IslemGun'] = pd.to_datetime(veri['IslemTarih']).dt.day_name()\n",
    "\n",
    "uye_isyeri_kosullari = []\n",
    "\n",
    "for isyeri_adi in veri['UyeIsyeriAdi'].unique():\n",
    "    isyeri_verisi = veri[veri['UyeIsyeriAdi'] == isyeri_adi]\n",
    "    en_az_islem_saatleri = isyeri_verisi['IslemSaat'].value_counts().idxmin()\n",
    "    en_az_islem_gunleri = isyeri_verisi['IslemGun'].value_counts().idxmin()\n",
    "    uye_isyeri_kosullari.append({'UyeIsyeriAdi': isyeri_adi, 'EnAzIslemSaatleri': en_az_islem_saatleri, 'EnAzIslemGunleri': en_az_islem_gunleri})\n",
    "\n",
    "uye_isyeri_kosullari = pd.DataFrame(uye_isyeri_kosullari)\n",
    "\n",
    "uyeadi = input(\"Lütfen bir UyeIsyeriAdi girin: \")\n",
    "\n",
    "kampanya_sonucu = uye_isyeri_kosullari[uye_isyeri_kosullari['UyeIsyeriAdi'] == uyeadi]\n",
    "\n",
    "if not kampanya_sonucu.empty:\n",
    "    en_az_islem_saatleri = kampanya_sonucu.iloc[0]['EnAzIslemSaatleri']\n",
    "    en_az_islem_gunleri = kampanya_sonucu.iloc[0]['EnAzIslemGunleri']\n",
    "    print(f\"{uyeadi} işyeri için kampanya koşulları: {en_az_islem_gunleri} günleri {en_az_islem_saatleri} - {en_az_islem_saatleri + 2} saatleri arasında komisyon indirimi mevcut.\")\n",
    "else:\n",
    "    print(f\"{uyeadi} işyeri için kampanya koşulları bulunamadı.\")"
   ]
  }
 ],
 "metadata": {
  "kernelspec": {
   "display_name": "Python 3",
   "language": "python",
   "name": "python3"
  },
  "language_info": {
   "codemirror_mode": {
    "name": "ipython",
    "version": 3
   },
   "file_extension": ".py",
   "mimetype": "text/x-python",
   "name": "python",
   "nbconvert_exporter": "python",
   "pygments_lexer": "ipython3",
   "version": "3.10.2"
  }
 },
 "nbformat": 4,
 "nbformat_minor": 2
}
